{
 "cells": [
  {
   "cell_type": "markdown",
   "metadata": {},
   "source": [
    "## Inaugurações de Estações da CPTM e do Metrô\n",
    "\n",
    "### Pré-processamento e análise dos dados"
   ]
  },
  {
   "cell_type": "code",
   "execution_count": 1,
   "metadata": {},
   "outputs": [
    {
     "data": {
      "text/html": [
       "<div>\n",
       "<style scoped>\n",
       "    .dataframe tbody tr th:only-of-type {\n",
       "        vertical-align: middle;\n",
       "    }\n",
       "\n",
       "    .dataframe tbody tr th {\n",
       "        vertical-align: top;\n",
       "    }\n",
       "\n",
       "    .dataframe thead th {\n",
       "        text-align: right;\n",
       "    }\n",
       "</style>\n",
       "<table border=\"1\" class=\"dataframe\">\n",
       "  <thead>\n",
       "    <tr style=\"text-align: right;\">\n",
       "      <th></th>\n",
       "      <th>Nome</th>\n",
       "      <th>Construção</th>\n",
       "      <th>Linha</th>\n",
       "      <th>Inauguração</th>\n",
       "      <th>Idade</th>\n",
       "    </tr>\n",
       "  </thead>\n",
       "  <tbody>\n",
       "    <tr>\n",
       "      <th>0</th>\n",
       "      <td>Francisco Morato</td>\n",
       "      <td>CPTM</td>\n",
       "      <td>7</td>\n",
       "      <td>14/02/1867</td>\n",
       "      <td>152</td>\n",
       "    </tr>\n",
       "    <tr>\n",
       "      <th>1</th>\n",
       "      <td>Água Branca</td>\n",
       "      <td>CPTM</td>\n",
       "      <td>7</td>\n",
       "      <td>16/02/1867</td>\n",
       "      <td>152</td>\n",
       "    </tr>\n",
       "    <tr>\n",
       "      <th>2</th>\n",
       "      <td>Brás</td>\n",
       "      <td>CPTM</td>\n",
       "      <td>7</td>\n",
       "      <td>16/02/1867</td>\n",
       "      <td>152</td>\n",
       "    </tr>\n",
       "    <tr>\n",
       "      <th>3</th>\n",
       "      <td>Jundiaí</td>\n",
       "      <td>CPTM</td>\n",
       "      <td>7</td>\n",
       "      <td>16/02/1867</td>\n",
       "      <td>152</td>\n",
       "    </tr>\n",
       "    <tr>\n",
       "      <th>4</th>\n",
       "      <td>Luz</td>\n",
       "      <td>CPTM</td>\n",
       "      <td>7</td>\n",
       "      <td>16/02/1867</td>\n",
       "      <td>152</td>\n",
       "    </tr>\n",
       "    <tr>\n",
       "      <th>...</th>\n",
       "      <td>...</td>\n",
       "      <td>...</td>\n",
       "      <td>...</td>\n",
       "      <td>...</td>\n",
       "      <td>...</td>\n",
       "    </tr>\n",
       "    <tr>\n",
       "      <th>179</th>\n",
       "      <td>Campo Belo</td>\n",
       "      <td>Metrô</td>\n",
       "      <td>5</td>\n",
       "      <td>08/04/2019</td>\n",
       "      <td>0</td>\n",
       "    </tr>\n",
       "    <tr>\n",
       "      <th>180</th>\n",
       "      <td>Jardim Planalto</td>\n",
       "      <td>Metrô</td>\n",
       "      <td>15</td>\n",
       "      <td>26/08/2019</td>\n",
       "      <td>0</td>\n",
       "    </tr>\n",
       "    <tr>\n",
       "      <th>181</th>\n",
       "      <td>Fazenda da Juta</td>\n",
       "      <td>Metrô</td>\n",
       "      <td>15</td>\n",
       "      <td>16/12/2019</td>\n",
       "      <td>0</td>\n",
       "    </tr>\n",
       "    <tr>\n",
       "      <th>182</th>\n",
       "      <td>São Mateus</td>\n",
       "      <td>Metrô</td>\n",
       "      <td>15</td>\n",
       "      <td>16/12/2019</td>\n",
       "      <td>0</td>\n",
       "    </tr>\n",
       "    <tr>\n",
       "      <th>183</th>\n",
       "      <td>Sapopemba</td>\n",
       "      <td>Metrô</td>\n",
       "      <td>15</td>\n",
       "      <td>16/12/2019</td>\n",
       "      <td>0</td>\n",
       "    </tr>\n",
       "  </tbody>\n",
       "</table>\n",
       "<p>184 rows × 5 columns</p>\n",
       "</div>"
      ],
      "text/plain": [
       "                 Nome Construção  Linha Inauguração  Idade\n",
       "0    Francisco Morato       CPTM      7  14/02/1867    152\n",
       "1         Água Branca       CPTM      7  16/02/1867    152\n",
       "2                Brás       CPTM      7  16/02/1867    152\n",
       "3             Jundiaí       CPTM      7  16/02/1867    152\n",
       "4                 Luz       CPTM      7  16/02/1867    152\n",
       "..                ...        ...    ...         ...    ...\n",
       "179        Campo Belo      Metrô      5  08/04/2019      0\n",
       "180   Jardim Planalto      Metrô     15  26/08/2019      0\n",
       "181   Fazenda da Juta      Metrô     15  16/12/2019      0\n",
       "182        São Mateus      Metrô     15  16/12/2019      0\n",
       "183         Sapopemba      Metrô     15  16/12/2019      0\n",
       "\n",
       "[184 rows x 5 columns]"
      ]
     },
     "execution_count": 1,
     "metadata": {},
     "output_type": "execute_result"
    }
   ],
   "source": [
    "import pandas as pd\n",
    "import numpy as np\n",
    "\n",
    "dados = pd.read_csv(\"inauguracoes.csv\")\n",
    "\n",
    "dados"
   ]
  },
  {
   "cell_type": "code",
   "execution_count": 2,
   "metadata": {},
   "outputs": [
    {
     "data": {
      "text/html": [
       "<div>\n",
       "<style scoped>\n",
       "    .dataframe tbody tr th:only-of-type {\n",
       "        vertical-align: middle;\n",
       "    }\n",
       "\n",
       "    .dataframe tbody tr th {\n",
       "        vertical-align: top;\n",
       "    }\n",
       "\n",
       "    .dataframe thead th {\n",
       "        text-align: right;\n",
       "    }\n",
       "</style>\n",
       "<table border=\"1\" class=\"dataframe\">\n",
       "  <thead>\n",
       "    <tr style=\"text-align: right;\">\n",
       "      <th></th>\n",
       "      <th>Nome</th>\n",
       "      <th>Construção</th>\n",
       "      <th>Linha</th>\n",
       "      <th>Inauguração</th>\n",
       "      <th>Idade</th>\n",
       "      <th>Dia</th>\n",
       "      <th>Mês</th>\n",
       "      <th>Ano</th>\n",
       "    </tr>\n",
       "  </thead>\n",
       "  <tbody>\n",
       "    <tr>\n",
       "      <th>0</th>\n",
       "      <td>Francisco Morato</td>\n",
       "      <td>CPTM</td>\n",
       "      <td>7</td>\n",
       "      <td>14/02/1867</td>\n",
       "      <td>152</td>\n",
       "      <td>14</td>\n",
       "      <td>2</td>\n",
       "      <td>1867</td>\n",
       "    </tr>\n",
       "    <tr>\n",
       "      <th>1</th>\n",
       "      <td>Água Branca</td>\n",
       "      <td>CPTM</td>\n",
       "      <td>7</td>\n",
       "      <td>16/02/1867</td>\n",
       "      <td>152</td>\n",
       "      <td>16</td>\n",
       "      <td>2</td>\n",
       "      <td>1867</td>\n",
       "    </tr>\n",
       "    <tr>\n",
       "      <th>2</th>\n",
       "      <td>Brás</td>\n",
       "      <td>CPTM</td>\n",
       "      <td>7</td>\n",
       "      <td>16/02/1867</td>\n",
       "      <td>152</td>\n",
       "      <td>16</td>\n",
       "      <td>2</td>\n",
       "      <td>1867</td>\n",
       "    </tr>\n",
       "    <tr>\n",
       "      <th>3</th>\n",
       "      <td>Jundiaí</td>\n",
       "      <td>CPTM</td>\n",
       "      <td>7</td>\n",
       "      <td>16/02/1867</td>\n",
       "      <td>152</td>\n",
       "      <td>16</td>\n",
       "      <td>2</td>\n",
       "      <td>1867</td>\n",
       "    </tr>\n",
       "    <tr>\n",
       "      <th>4</th>\n",
       "      <td>Luz</td>\n",
       "      <td>CPTM</td>\n",
       "      <td>7</td>\n",
       "      <td>16/02/1867</td>\n",
       "      <td>152</td>\n",
       "      <td>16</td>\n",
       "      <td>2</td>\n",
       "      <td>1867</td>\n",
       "    </tr>\n",
       "  </tbody>\n",
       "</table>\n",
       "</div>"
      ],
      "text/plain": [
       "               Nome Construção  Linha Inauguração  Idade  Dia  Mês   Ano\n",
       "0  Francisco Morato       CPTM      7  14/02/1867    152   14    2  1867\n",
       "1       Água Branca       CPTM      7  16/02/1867    152   16    2  1867\n",
       "2              Brás       CPTM      7  16/02/1867    152   16    2  1867\n",
       "3           Jundiaí       CPTM      7  16/02/1867    152   16    2  1867\n",
       "4               Luz       CPTM      7  16/02/1867    152   16    2  1867"
      ]
     },
     "execution_count": 2,
     "metadata": {},
     "output_type": "execute_result"
    }
   ],
   "source": [
    "#desmembrando a data de inauguração em três colunas\n",
    "\n",
    "dados['Dia'] = pd.to_datetime(dados.Inauguração).dt.day\n",
    "dados['Mês'] = pd.to_datetime(dados.Inauguração).dt.month\n",
    "dados['Ano'] = pd.to_datetime(dados.Inauguração).dt.year\n",
    "\n",
    "dados.head()"
   ]
  },
  {
   "cell_type": "code",
   "execution_count": 3,
   "metadata": {},
   "outputs": [
    {
     "data": {
      "text/html": [
       "<div>\n",
       "<style scoped>\n",
       "    .dataframe tbody tr th:only-of-type {\n",
       "        vertical-align: middle;\n",
       "    }\n",
       "\n",
       "    .dataframe tbody tr th {\n",
       "        vertical-align: top;\n",
       "    }\n",
       "\n",
       "    .dataframe thead th {\n",
       "        text-align: right;\n",
       "    }\n",
       "</style>\n",
       "<table border=\"1\" class=\"dataframe\">\n",
       "  <thead>\n",
       "    <tr style=\"text-align: right;\">\n",
       "      <th></th>\n",
       "      <th>Nome</th>\n",
       "      <th>Construção</th>\n",
       "      <th>Linha</th>\n",
       "      <th>Inauguração</th>\n",
       "      <th>Idade</th>\n",
       "      <th>Dia</th>\n",
       "      <th>Mês</th>\n",
       "      <th>Ano</th>\n",
       "    </tr>\n",
       "  </thead>\n",
       "  <tbody>\n",
       "    <tr>\n",
       "      <th>0</th>\n",
       "      <td>Francisco Morato</td>\n",
       "      <td>CPTM</td>\n",
       "      <td>7</td>\n",
       "      <td>14/02/1867</td>\n",
       "      <td>152</td>\n",
       "      <td>14</td>\n",
       "      <td>2</td>\n",
       "      <td>1867</td>\n",
       "    </tr>\n",
       "    <tr>\n",
       "      <th>2</th>\n",
       "      <td>Brás</td>\n",
       "      <td>CPTM</td>\n",
       "      <td>7</td>\n",
       "      <td>16/02/1867</td>\n",
       "      <td>152</td>\n",
       "      <td>16</td>\n",
       "      <td>2</td>\n",
       "      <td>1867</td>\n",
       "    </tr>\n",
       "    <tr>\n",
       "      <th>3</th>\n",
       "      <td>Jundiaí</td>\n",
       "      <td>CPTM</td>\n",
       "      <td>7</td>\n",
       "      <td>16/02/1867</td>\n",
       "      <td>152</td>\n",
       "      <td>16</td>\n",
       "      <td>2</td>\n",
       "      <td>1867</td>\n",
       "    </tr>\n",
       "    <tr>\n",
       "      <th>4</th>\n",
       "      <td>Luz</td>\n",
       "      <td>CPTM</td>\n",
       "      <td>7</td>\n",
       "      <td>16/02/1867</td>\n",
       "      <td>152</td>\n",
       "      <td>16</td>\n",
       "      <td>2</td>\n",
       "      <td>1867</td>\n",
       "    </tr>\n",
       "    <tr>\n",
       "      <th>5</th>\n",
       "      <td>Perus</td>\n",
       "      <td>CPTM</td>\n",
       "      <td>7</td>\n",
       "      <td>16/02/1867</td>\n",
       "      <td>152</td>\n",
       "      <td>16</td>\n",
       "      <td>2</td>\n",
       "      <td>1867</td>\n",
       "    </tr>\n",
       "    <tr>\n",
       "      <th>1</th>\n",
       "      <td>Água Branca</td>\n",
       "      <td>CPTM</td>\n",
       "      <td>7</td>\n",
       "      <td>16/02/1867</td>\n",
       "      <td>152</td>\n",
       "      <td>16</td>\n",
       "      <td>2</td>\n",
       "      <td>1867</td>\n",
       "    </tr>\n",
       "    <tr>\n",
       "      <th>14</th>\n",
       "      <td>Campo Limpo Paulista</td>\n",
       "      <td>CPTM</td>\n",
       "      <td>7</td>\n",
       "      <td>01/01/1881</td>\n",
       "      <td>139</td>\n",
       "      <td>1</td>\n",
       "      <td>1</td>\n",
       "      <td>1881</td>\n",
       "    </tr>\n",
       "    <tr>\n",
       "      <th>17</th>\n",
       "      <td>Caieiras</td>\n",
       "      <td>CPTM</td>\n",
       "      <td>7</td>\n",
       "      <td>01/07/1883</td>\n",
       "      <td>136</td>\n",
       "      <td>7</td>\n",
       "      <td>1</td>\n",
       "      <td>1883</td>\n",
       "    </tr>\n",
       "    <tr>\n",
       "      <th>18</th>\n",
       "      <td>Pirituba</td>\n",
       "      <td>CPTM</td>\n",
       "      <td>7</td>\n",
       "      <td>01/02/1885</td>\n",
       "      <td>134</td>\n",
       "      <td>2</td>\n",
       "      <td>1</td>\n",
       "      <td>1885</td>\n",
       "    </tr>\n",
       "    <tr>\n",
       "      <th>21</th>\n",
       "      <td>Franco da Rocha</td>\n",
       "      <td>CPTM</td>\n",
       "      <td>7</td>\n",
       "      <td>01/02/1888</td>\n",
       "      <td>131</td>\n",
       "      <td>2</td>\n",
       "      <td>1</td>\n",
       "      <td>1888</td>\n",
       "    </tr>\n",
       "    <tr>\n",
       "      <th>22</th>\n",
       "      <td>Várzea Paulista</td>\n",
       "      <td>CPTM</td>\n",
       "      <td>7</td>\n",
       "      <td>01/07/1891</td>\n",
       "      <td>128</td>\n",
       "      <td>7</td>\n",
       "      <td>1</td>\n",
       "      <td>1891</td>\n",
       "    </tr>\n",
       "    <tr>\n",
       "      <th>23</th>\n",
       "      <td>Jaraguá</td>\n",
       "      <td>CPTM</td>\n",
       "      <td>7</td>\n",
       "      <td>01/10/1891</td>\n",
       "      <td>128</td>\n",
       "      <td>10</td>\n",
       "      <td>1</td>\n",
       "      <td>1891</td>\n",
       "    </tr>\n",
       "    <tr>\n",
       "      <th>24</th>\n",
       "      <td>Palmeiras–Barra Funda</td>\n",
       "      <td>CPTM</td>\n",
       "      <td>7</td>\n",
       "      <td>19/05/1892</td>\n",
       "      <td>127</td>\n",
       "      <td>19</td>\n",
       "      <td>5</td>\n",
       "      <td>1892</td>\n",
       "    </tr>\n",
       "    <tr>\n",
       "      <th>27</th>\n",
       "      <td>Lapa</td>\n",
       "      <td>CPTM</td>\n",
       "      <td>7</td>\n",
       "      <td>20/02/1899</td>\n",
       "      <td>120</td>\n",
       "      <td>20</td>\n",
       "      <td>2</td>\n",
       "      <td>1899</td>\n",
       "    </tr>\n",
       "    <tr>\n",
       "      <th>28</th>\n",
       "      <td>Botujuru</td>\n",
       "      <td>CPTM</td>\n",
       "      <td>7</td>\n",
       "      <td>17/09/1908</td>\n",
       "      <td>111</td>\n",
       "      <td>17</td>\n",
       "      <td>9</td>\n",
       "      <td>1908</td>\n",
       "    </tr>\n",
       "    <tr>\n",
       "      <th>60</th>\n",
       "      <td>Baltazar Fidélis</td>\n",
       "      <td>CPTM</td>\n",
       "      <td>7</td>\n",
       "      <td>01/09/1955</td>\n",
       "      <td>64</td>\n",
       "      <td>9</td>\n",
       "      <td>1</td>\n",
       "      <td>1955</td>\n",
       "    </tr>\n",
       "    <tr>\n",
       "      <th>61</th>\n",
       "      <td>Vila Clarice</td>\n",
       "      <td>CPTM</td>\n",
       "      <td>7</td>\n",
       "      <td>01/09/1955</td>\n",
       "      <td>64</td>\n",
       "      <td>9</td>\n",
       "      <td>1</td>\n",
       "      <td>1955</td>\n",
       "    </tr>\n",
       "    <tr>\n",
       "      <th>65</th>\n",
       "      <td>Piqueri</td>\n",
       "      <td>CPTM</td>\n",
       "      <td>7</td>\n",
       "      <td>01/07/1960</td>\n",
       "      <td>59</td>\n",
       "      <td>7</td>\n",
       "      <td>1</td>\n",
       "      <td>1960</td>\n",
       "    </tr>\n",
       "    <tr>\n",
       "      <th>156</th>\n",
       "      <td>Vila Aurora</td>\n",
       "      <td>CPTM</td>\n",
       "      <td>7</td>\n",
       "      <td>09/09/2013</td>\n",
       "      <td>6</td>\n",
       "      <td>9</td>\n",
       "      <td>9</td>\n",
       "      <td>2013</td>\n",
       "    </tr>\n",
       "  </tbody>\n",
       "</table>\n",
       "</div>"
      ],
      "text/plain": [
       "                      Nome Construção  Linha Inauguração  Idade  Dia  Mês  \\\n",
       "0         Francisco Morato       CPTM      7  14/02/1867    152   14    2   \n",
       "2                     Brás       CPTM      7  16/02/1867    152   16    2   \n",
       "3                  Jundiaí       CPTM      7  16/02/1867    152   16    2   \n",
       "4                      Luz       CPTM      7  16/02/1867    152   16    2   \n",
       "5                    Perus       CPTM      7  16/02/1867    152   16    2   \n",
       "1              Água Branca       CPTM      7  16/02/1867    152   16    2   \n",
       "14    Campo Limpo Paulista       CPTM      7  01/01/1881    139    1    1   \n",
       "17                Caieiras       CPTM      7  01/07/1883    136    7    1   \n",
       "18                Pirituba       CPTM      7  01/02/1885    134    2    1   \n",
       "21         Franco da Rocha       CPTM      7  01/02/1888    131    2    1   \n",
       "22         Várzea Paulista       CPTM      7  01/07/1891    128    7    1   \n",
       "23                 Jaraguá       CPTM      7  01/10/1891    128   10    1   \n",
       "24   Palmeiras–Barra Funda       CPTM      7  19/05/1892    127   19    5   \n",
       "27                    Lapa       CPTM      7  20/02/1899    120   20    2   \n",
       "28                Botujuru       CPTM      7  17/09/1908    111   17    9   \n",
       "60        Baltazar Fidélis       CPTM      7  01/09/1955     64    9    1   \n",
       "61            Vila Clarice       CPTM      7  01/09/1955     64    9    1   \n",
       "65                 Piqueri       CPTM      7  01/07/1960     59    7    1   \n",
       "156            Vila Aurora       CPTM      7  09/09/2013      6    9    9   \n",
       "\n",
       "      Ano  \n",
       "0    1867  \n",
       "2    1867  \n",
       "3    1867  \n",
       "4    1867  \n",
       "5    1867  \n",
       "1    1867  \n",
       "14   1881  \n",
       "17   1883  \n",
       "18   1885  \n",
       "21   1888  \n",
       "22   1891  \n",
       "23   1891  \n",
       "24   1892  \n",
       "27   1899  \n",
       "28   1908  \n",
       "60   1955  \n",
       "61   1955  \n",
       "65   1960  \n",
       "156  2013  "
      ]
     },
     "execution_count": 3,
     "metadata": {},
     "output_type": "execute_result"
    }
   ],
   "source": [
    "dados[dados.Linha == 7].sort_values(by = ['Ano', 'Mês', 'Dia', 'Nome'], ascending = True)"
   ]
  },
  {
   "cell_type": "code",
   "execution_count": 4,
   "metadata": {},
   "outputs": [
    {
     "name": "stderr",
     "output_type": "stream",
     "text": [
      "C:\\Users\\davir\\Anaconda3\\lib\\site-packages\\numpy\\lib\\function_base.py:393: RuntimeWarning: Mean of empty slice.\n",
      "  avg = a.mean(axis)\n",
      "C:\\Users\\davir\\Anaconda3\\lib\\site-packages\\numpy\\core\\_methods.py:161: RuntimeWarning: invalid value encountered in double_scalars\n",
      "  ret = ret.dtype.type(ret / rcount)\n"
     ]
    },
    {
     "data": {
      "text/html": [
       "<div>\n",
       "<style scoped>\n",
       "    .dataframe tbody tr th:only-of-type {\n",
       "        vertical-align: middle;\n",
       "    }\n",
       "\n",
       "    .dataframe tbody tr th {\n",
       "        vertical-align: top;\n",
       "    }\n",
       "\n",
       "    .dataframe thead th {\n",
       "        text-align: right;\n",
       "    }\n",
       "</style>\n",
       "<table border=\"1\" class=\"dataframe\">\n",
       "  <thead>\n",
       "    <tr style=\"text-align: right;\">\n",
       "      <th></th>\n",
       "      <th>Idade</th>\n",
       "    </tr>\n",
       "    <tr>\n",
       "      <th>Linha</th>\n",
       "      <th></th>\n",
       "    </tr>\n",
       "  </thead>\n",
       "  <tbody>\n",
       "    <tr>\n",
       "      <th>7</th>\n",
       "      <td>118.894737</td>\n",
       "    </tr>\n",
       "    <tr>\n",
       "      <th>10</th>\n",
       "      <td>110.416667</td>\n",
       "    </tr>\n",
       "    <tr>\n",
       "      <th>8</th>\n",
       "      <td>92.571429</td>\n",
       "    </tr>\n",
       "    <tr>\n",
       "      <th>11</th>\n",
       "      <td>73.615385</td>\n",
       "    </tr>\n",
       "    <tr>\n",
       "      <th>12</th>\n",
       "      <td>63.900000</td>\n",
       "    </tr>\n",
       "    <tr>\n",
       "      <th>1</th>\n",
       "      <td>41.173913</td>\n",
       "    </tr>\n",
       "    <tr>\n",
       "      <th>3</th>\n",
       "      <td>34.470588</td>\n",
       "    </tr>\n",
       "    <tr>\n",
       "      <th>9</th>\n",
       "      <td>32.000000</td>\n",
       "    </tr>\n",
       "    <tr>\n",
       "      <th>2</th>\n",
       "      <td>19.571429</td>\n",
       "    </tr>\n",
       "    <tr>\n",
       "      <th>5</th>\n",
       "      <td>7.000000</td>\n",
       "    </tr>\n",
       "    <tr>\n",
       "      <th>4</th>\n",
       "      <td>5.900000</td>\n",
       "    </tr>\n",
       "    <tr>\n",
       "      <th>15</th>\n",
       "      <td>1.400000</td>\n",
       "    </tr>\n",
       "    <tr>\n",
       "      <th>13</th>\n",
       "      <td>1.000000</td>\n",
       "    </tr>\n",
       "  </tbody>\n",
       "</table>\n",
       "</div>"
      ],
      "text/plain": [
       "            Idade\n",
       "Linha            \n",
       "7      118.894737\n",
       "10     110.416667\n",
       "8       92.571429\n",
       "11      73.615385\n",
       "12      63.900000\n",
       "1       41.173913\n",
       "3       34.470588\n",
       "9       32.000000\n",
       "2       19.571429\n",
       "5        7.000000\n",
       "4        5.900000\n",
       "15       1.400000\n",
       "13       1.000000"
      ]
     },
     "execution_count": 4,
     "metadata": {},
     "output_type": "execute_result"
    }
   ],
   "source": [
    "dados.groupby('Linha').agg({'Idade' : np.average}).sort_values(by = ['Idade'], ascending = False)"
   ]
  },
  {
   "cell_type": "code",
   "execution_count": 5,
   "metadata": {},
   "outputs": [
    {
     "name": "stderr",
     "output_type": "stream",
     "text": [
      "C:\\Users\\davir\\Anaconda3\\lib\\site-packages\\numpy\\lib\\function_base.py:393: RuntimeWarning: Mean of empty slice.\n",
      "  avg = a.mean(axis)\n",
      "C:\\Users\\davir\\Anaconda3\\lib\\site-packages\\numpy\\core\\_methods.py:161: RuntimeWarning: invalid value encountered in double_scalars\n",
      "  ret = ret.dtype.type(ret / rcount)\n"
     ]
    },
    {
     "data": {
      "text/html": [
       "<div>\n",
       "<style scoped>\n",
       "    .dataframe tbody tr th:only-of-type {\n",
       "        vertical-align: middle;\n",
       "    }\n",
       "\n",
       "    .dataframe tbody tr th {\n",
       "        vertical-align: top;\n",
       "    }\n",
       "\n",
       "    .dataframe thead th {\n",
       "        text-align: right;\n",
       "    }\n",
       "</style>\n",
       "<table border=\"1\" class=\"dataframe\">\n",
       "  <thead>\n",
       "    <tr style=\"text-align: right;\">\n",
       "      <th></th>\n",
       "      <th>Idade</th>\n",
       "    </tr>\n",
       "    <tr>\n",
       "      <th>Construção</th>\n",
       "      <th></th>\n",
       "    </tr>\n",
       "  </thead>\n",
       "  <tbody>\n",
       "    <tr>\n",
       "      <th>CPTM</th>\n",
       "      <td>80.673684</td>\n",
       "    </tr>\n",
       "    <tr>\n",
       "      <th>Metrô</th>\n",
       "      <td>22.168539</td>\n",
       "    </tr>\n",
       "  </tbody>\n",
       "</table>\n",
       "</div>"
      ],
      "text/plain": [
       "                Idade\n",
       "Construção           \n",
       "CPTM        80.673684\n",
       "Metrô       22.168539"
      ]
     },
     "execution_count": 5,
     "metadata": {},
     "output_type": "execute_result"
    }
   ],
   "source": [
    "dados.groupby('Construção').agg({'Idade' : np.average}).sort_values(by = ['Idade'], ascending = False)"
   ]
  },
  {
   "cell_type": "code",
   "execution_count": 6,
   "metadata": {},
   "outputs": [
    {
     "data": {
      "text/plain": [
       "Ano\n",
       "1867     8\n",
       "1872     1\n",
       "1875     5\n",
       "1881     1\n",
       "1883     3\n",
       "        ..\n",
       "2013     1\n",
       "2014     4\n",
       "2017     3\n",
       "2018    15\n",
       "2019     5\n",
       "Name: Nome, Length: 62, dtype: int64"
      ]
     },
     "execution_count": 6,
     "metadata": {},
     "output_type": "execute_result"
    }
   ],
   "source": [
    "dados.groupby('Ano')['Nome'].count()"
   ]
  },
  {
   "cell_type": "code",
   "execution_count": 7,
   "metadata": {},
   "outputs": [
    {
     "data": {
      "image/png": "[encoded data removed]",
      "text/plain": [
       "<Figure size 1440x864 with 1 Axes>"
      ]
     },
     "metadata": {
      "needs_background": "light"
     },
     "output_type": "display_data"
    }
   ],
   "source": [
    "import matplotlib.pyplot as plt\n",
    "import random\n",
    "\n",
    "fig = plt.figure(figsize = (20,12))\n",
    "ax = fig.add_subplot(1, 1, 1) \n",
    "ax.set_xlabel('Ano', fontsize = 15)\n",
    "ax.set_ylabel('Linha', fontsize = 15)\n",
    "ax.set_title('Inaugurações de estações da CPTM e do Metrô', fontsize = 20)\n",
    "\n",
    "legenda = dados.Linha.sort_values().apply(lambda l: 'Linha ' + str(l)).unique().tolist()\n",
    "linhas = dados.Linha.sort_values().unique().tolist()\n",
    "\n",
    "n_cores = 13\n",
    "\n",
    "cores = [\"#\" + ''.join([random.choice('0123456789ABCDEF') for j in range(6)]) for i in range(n_cores)]\n",
    "\n",
    "anos = pd.to_datetime(dados.loc[:, 'Inauguração']).dt.year\n",
    "\n",
    "plt.xticks(np.arange(min(anos), max(anos) + 5, 5.0))\n",
    "plt.yticks(np.arange(1, 16, 1.0))\n",
    "\n",
    "ax.legend(legenda)\n",
    "ax.grid()\n",
    "\n",
    "for l, cor in zip(linhas, cores):\n",
    "    indices = dados['Linha'] == l\n",
    "    ax.scatter(pd.to_datetime(dados.loc[indices, 'Inauguração']).dt.year,\n",
    "               dados.loc[indices, 'Linha'],\n",
    "               c = cor,\n",
    "               s = 40)"
   ]
  },
  {
   "cell_type": "code",
   "execution_count": 8,
   "metadata": {},
   "outputs": [
    {
     "data": {
      "text/plain": [
       "[<matplotlib.lines.Line2D at 0x256dd902c88>]"
      ]
     },
     "execution_count": 8,
     "metadata": {},
     "output_type": "execute_result"
    },
    {
     "data": {
      "image/png": "[encoded data removed]",
      "text/plain": [
       "<Figure size 1440x432 with 1 Axes>"
      ]
     },
     "metadata": {
      "needs_background": "light"
     },
     "output_type": "display_data"
    }
   ],
   "source": [
    "fig = plt.figure(figsize = (20,6))\n",
    "\n",
    "ax = fig.add_subplot(1, 1, 1) \n",
    "\n",
    "ax.set_xlabel('Ano', fontsize = 15)\n",
    "ax.set_ylabel('Estações inauguradas', fontsize = 15)\n",
    "ax.set_title('Inaugurações de estações da CPTM e do Metrô', fontsize = 20)\n",
    "\n",
    "ax.grid()\n",
    "\n",
    "anos = dados.Ano.unique()\n",
    "inauguracoes = dados.groupby('Ano')['Nome'].count().tolist()\n",
    "\n",
    "plt.xticks(np.arange(min(anos), max(anos) + 4, 4.0))\n",
    "plt.yticks(np.arange(min(inauguracoes), max(inauguracoes) + 1, 1.0))\n",
    "\n",
    "ax.plot(anos, inauguracoes)"
   ]
  },
  {
   "cell_type": "code",
   "execution_count": 9,
   "metadata": {},
   "outputs": [
    {
     "data": {
      "text/plain": [
       "<BarContainer object of 62 artists>"
      ]
     },
     "execution_count": 9,
     "metadata": {},
     "output_type": "execute_result"
    },
    {
     "data": {
      "image/png": "[encoded data removed]",
      "text/plain": [
       "<Figure size 1440x432 with 1 Axes>"
      ]
     },
     "metadata": {
      "needs_background": "light"
     },
     "output_type": "display_data"
    }
   ],
   "source": [
    "fig = plt.figure(figsize = (20,6))\n",
    "\n",
    "ax = fig.add_subplot(1, 1, 1) \n",
    "\n",
    "ax.set_xlabel('Ano', fontsize = 15)\n",
    "ax.set_ylabel('Estações inauguradas', fontsize = 15)\n",
    "ax.set_title('Inaugurações de estações da CPTM e do Metrô', fontsize = 20)\n",
    "\n",
    "anos = dados.Ano.unique()\n",
    "inauguracoes = dados.groupby('Ano')['Nome'].count().tolist()\n",
    "\n",
    "plt.xticks(np.arange(min(anos), max(anos) + 4, 4.0))\n",
    "plt.yticks(np.arange(min(inauguracoes), max(inauguracoes) + 1, 1.0))\n",
    "\n",
    "ax.grid()\n",
    "\n",
    "plt.bar(anos, inauguracoes, color = cores)"
   ]
  },
  {
   "cell_type": "code",
   "execution_count": 10,
   "metadata": {},
   "outputs": [
    {
     "data": {
      "text/plain": [
       "<BarContainer object of 48 artists>"
      ]
     },
     "execution_count": 10,
     "metadata": {},
     "output_type": "execute_result"
    },
    {
     "data": {
      "image/png": "[encoded data removed]",
      "text/plain": [
       "<Figure size 1440x432 with 1 Axes>"
      ]
     },
     "metadata": {
      "needs_background": "light"
     },
     "output_type": "display_data"
    }
   ],
   "source": [
    "fig = plt.figure(figsize = (20,6))\n",
    "\n",
    "ax = fig.add_subplot(1, 1, 1) \n",
    "\n",
    "ax.set_xlabel('Ano', fontsize = 15)\n",
    "ax.set_ylabel('Estações inauguradas', fontsize = 15)\n",
    "ax.set_title('Inaugurações de estações da CPTM', fontsize = 20)\n",
    "\n",
    "anos = dados[dados.Construção == 'CPTM'].Ano.unique()\n",
    "inauguracoes = dados[dados.Construção == 'CPTM'].groupby('Ano')['Nome'].count().tolist()\n",
    "\n",
    "plt.xticks(np.arange(min(anos), max(anos) + 4, 4.0))\n",
    "plt.yticks(np.arange(min(inauguracoes), max(inauguracoes) + 1, 1.0))\n",
    "\n",
    "ax.grid()\n",
    "\n",
    "plt.bar(anos, inauguracoes, color = cores)"
   ]
  },
  {
   "cell_type": "code",
   "execution_count": 11,
   "metadata": {},
   "outputs": [
    {
     "data": {
      "text/plain": [
       "<BarContainer object of 22 artists>"
      ]
     },
     "execution_count": 11,
     "metadata": {},
     "output_type": "execute_result"
    },
    {
     "data": {
      "image/png": "[encoded data removed]",
      "text/plain": [
       "<Figure size 1440x432 with 1 Axes>"
      ]
     },
     "metadata": {
      "needs_background": "light"
     },
     "output_type": "display_data"
    }
   ],
   "source": [
    "fig = plt.figure(figsize = (20,6))\n",
    "\n",
    "ax = fig.add_subplot(1, 1, 1) \n",
    "\n",
    "ax.grid()\n",
    "ax.set_xlabel('Ano', fontsize = 15)\n",
    "ax.set_ylabel('Estações inauguradas', fontsize = 15)\n",
    "ax.set_title('Inaugurações de estações do Metrô', fontsize = 20)\n",
    "\n",
    "anos = dados[dados.Construção == 'Metrô'].Ano.unique()\n",
    "inauguracoes = dados[dados.Construção == 'Metrô'].groupby('Ano')['Nome'].count().tolist()\n",
    "\n",
    "plt.xticks(np.arange(min(anos), max(anos) + 2, 2.0))\n",
    "plt.yticks(np.arange(min(inauguracoes), max(inauguracoes) + 1, 1.0))\n",
    "\n",
    "plt.bar(anos, inauguracoes, color = cores)"
   ]
  },
  {
   "cell_type": "code",
   "execution_count": 12,
   "metadata": {},
   "outputs": [
    {
     "data": {
      "text/plain": [
       "(array([ 7., 12.,  1.,  1.,  2.,  2.,  1.,  2.,  2.,  7.,  4.,  2.,  5.,\n",
       "         4.,  2.,  1.,  5.,  4.,  4.,  3., 18.]),\n",
       " array([1974, 1975, 1978, 1979, 1980, 1981, 1982, 1983, 1986, 1988, 1991,\n",
       "        1992, 1998, 2000, 2006, 2007, 2010, 2011, 2014, 2017, 2018, 2019],\n",
       "       dtype=int64),\n",
       " <a list of 21 Patch objects>)"
      ]
     },
     "execution_count": 12,
     "metadata": {},
     "output_type": "execute_result"
    },
    {
     "data": {
      "image/png": "[encoded data removed]",
      "text/plain": [
       "<Figure size 432x288 with 1 Axes>"
      ]
     },
     "metadata": {
      "needs_background": "light"
     },
     "output_type": "display_data"
    }
   ],
   "source": [
    "inauguracoes = dados.loc[dados.Construção == 'Metrô', 'Ano']\n",
    "bins = dados[dados.Construção == 'Metrô'].Ano.unique()\n",
    "\n",
    "plt.hist(inauguracoes, bins)"
   ]
  },
  {
   "cell_type": "code",
   "execution_count": 13,
   "metadata": {},
   "outputs": [
    {
     "data": {
      "text/plain": [
       "[1988,\n",
       " 1990,\n",
       " 1992,\n",
       " 1994,\n",
       " 1996,\n",
       " 1998,\n",
       " 2000,\n",
       " 2002,\n",
       " 2004,\n",
       " 2006,\n",
       " 2008,\n",
       " 2010,\n",
       " 2012,\n",
       " 2014,\n",
       " 2016,\n",
       " 2018]"
      ]
     },
     "execution_count": 13,
     "metadata": {},
     "output_type": "execute_result"
    }
   ],
   "source": [
    "#inaugurações em anos eleitorais (pós-ditadura, todos os anos pares)\n",
    "\n",
    "anos_eleitorais = list(range(1988, 2020, 2))\n",
    "\n",
    "anos_eleitorais"
   ]
  },
  {
   "cell_type": "code",
   "execution_count": 14,
   "metadata": {},
   "outputs": [
    {
     "data": {
      "text/html": [
       "<div>\n",
       "<style scoped>\n",
       "    .dataframe tbody tr th:only-of-type {\n",
       "        vertical-align: middle;\n",
       "    }\n",
       "\n",
       "    .dataframe tbody tr th {\n",
       "        vertical-align: top;\n",
       "    }\n",
       "\n",
       "    .dataframe thead th {\n",
       "        text-align: right;\n",
       "    }\n",
       "</style>\n",
       "<table border=\"1\" class=\"dataframe\">\n",
       "  <thead>\n",
       "    <tr style=\"text-align: right;\">\n",
       "      <th></th>\n",
       "      <th>Nome</th>\n",
       "      <th>Construção</th>\n",
       "      <th>Linha</th>\n",
       "      <th>Inauguração</th>\n",
       "      <th>Idade</th>\n",
       "      <th>Dia</th>\n",
       "      <th>Mês</th>\n",
       "      <th>Ano</th>\n",
       "      <th>AnoEleitoral</th>\n",
       "    </tr>\n",
       "  </thead>\n",
       "  <tbody>\n",
       "    <tr>\n",
       "      <th>0</th>\n",
       "      <td>Francisco Morato</td>\n",
       "      <td>CPTM</td>\n",
       "      <td>7</td>\n",
       "      <td>14/02/1867</td>\n",
       "      <td>152</td>\n",
       "      <td>14</td>\n",
       "      <td>2</td>\n",
       "      <td>1867</td>\n",
       "      <td>Não</td>\n",
       "    </tr>\n",
       "    <tr>\n",
       "      <th>1</th>\n",
       "      <td>Água Branca</td>\n",
       "      <td>CPTM</td>\n",
       "      <td>7</td>\n",
       "      <td>16/02/1867</td>\n",
       "      <td>152</td>\n",
       "      <td>16</td>\n",
       "      <td>2</td>\n",
       "      <td>1867</td>\n",
       "      <td>Não</td>\n",
       "    </tr>\n",
       "    <tr>\n",
       "      <th>2</th>\n",
       "      <td>Brás</td>\n",
       "      <td>CPTM</td>\n",
       "      <td>7</td>\n",
       "      <td>16/02/1867</td>\n",
       "      <td>152</td>\n",
       "      <td>16</td>\n",
       "      <td>2</td>\n",
       "      <td>1867</td>\n",
       "      <td>Não</td>\n",
       "    </tr>\n",
       "    <tr>\n",
       "      <th>3</th>\n",
       "      <td>Jundiaí</td>\n",
       "      <td>CPTM</td>\n",
       "      <td>7</td>\n",
       "      <td>16/02/1867</td>\n",
       "      <td>152</td>\n",
       "      <td>16</td>\n",
       "      <td>2</td>\n",
       "      <td>1867</td>\n",
       "      <td>Não</td>\n",
       "    </tr>\n",
       "    <tr>\n",
       "      <th>4</th>\n",
       "      <td>Luz</td>\n",
       "      <td>CPTM</td>\n",
       "      <td>7</td>\n",
       "      <td>16/02/1867</td>\n",
       "      <td>152</td>\n",
       "      <td>16</td>\n",
       "      <td>2</td>\n",
       "      <td>1867</td>\n",
       "      <td>Não</td>\n",
       "    </tr>\n",
       "    <tr>\n",
       "      <th>...</th>\n",
       "      <td>...</td>\n",
       "      <td>...</td>\n",
       "      <td>...</td>\n",
       "      <td>...</td>\n",
       "      <td>...</td>\n",
       "      <td>...</td>\n",
       "      <td>...</td>\n",
       "      <td>...</td>\n",
       "      <td>...</td>\n",
       "    </tr>\n",
       "    <tr>\n",
       "      <th>179</th>\n",
       "      <td>Campo Belo</td>\n",
       "      <td>Metrô</td>\n",
       "      <td>5</td>\n",
       "      <td>08/04/2019</td>\n",
       "      <td>0</td>\n",
       "      <td>4</td>\n",
       "      <td>8</td>\n",
       "      <td>2019</td>\n",
       "      <td>Não</td>\n",
       "    </tr>\n",
       "    <tr>\n",
       "      <th>180</th>\n",
       "      <td>Jardim Planalto</td>\n",
       "      <td>Metrô</td>\n",
       "      <td>15</td>\n",
       "      <td>26/08/2019</td>\n",
       "      <td>0</td>\n",
       "      <td>26</td>\n",
       "      <td>8</td>\n",
       "      <td>2019</td>\n",
       "      <td>Não</td>\n",
       "    </tr>\n",
       "    <tr>\n",
       "      <th>181</th>\n",
       "      <td>Fazenda da Juta</td>\n",
       "      <td>Metrô</td>\n",
       "      <td>15</td>\n",
       "      <td>16/12/2019</td>\n",
       "      <td>0</td>\n",
       "      <td>16</td>\n",
       "      <td>12</td>\n",
       "      <td>2019</td>\n",
       "      <td>Não</td>\n",
       "    </tr>\n",
       "    <tr>\n",
       "      <th>182</th>\n",
       "      <td>São Mateus</td>\n",
       "      <td>Metrô</td>\n",
       "      <td>15</td>\n",
       "      <td>16/12/2019</td>\n",
       "      <td>0</td>\n",
       "      <td>16</td>\n",
       "      <td>12</td>\n",
       "      <td>2019</td>\n",
       "      <td>Não</td>\n",
       "    </tr>\n",
       "    <tr>\n",
       "      <th>183</th>\n",
       "      <td>Sapopemba</td>\n",
       "      <td>Metrô</td>\n",
       "      <td>15</td>\n",
       "      <td>16/12/2019</td>\n",
       "      <td>0</td>\n",
       "      <td>16</td>\n",
       "      <td>12</td>\n",
       "      <td>2019</td>\n",
       "      <td>Não</td>\n",
       "    </tr>\n",
       "  </tbody>\n",
       "</table>\n",
       "<p>184 rows × 9 columns</p>\n",
       "</div>"
      ],
      "text/plain": [
       "                 Nome Construção  Linha Inauguração  Idade  Dia  Mês   Ano  \\\n",
       "0    Francisco Morato       CPTM      7  14/02/1867    152   14    2  1867   \n",
       "1         Água Branca       CPTM      7  16/02/1867    152   16    2  1867   \n",
       "2                Brás       CPTM      7  16/02/1867    152   16    2  1867   \n",
       "3             Jundiaí       CPTM      7  16/02/1867    152   16    2  1867   \n",
       "4                 Luz       CPTM      7  16/02/1867    152   16    2  1867   \n",
       "..                ...        ...    ...         ...    ...  ...  ...   ...   \n",
       "179        Campo Belo      Metrô      5  08/04/2019      0    4    8  2019   \n",
       "180   Jardim Planalto      Metrô     15  26/08/2019      0   26    8  2019   \n",
       "181   Fazenda da Juta      Metrô     15  16/12/2019      0   16   12  2019   \n",
       "182        São Mateus      Metrô     15  16/12/2019      0   16   12  2019   \n",
       "183         Sapopemba      Metrô     15  16/12/2019      0   16   12  2019   \n",
       "\n",
       "    AnoEleitoral  \n",
       "0            Não  \n",
       "1            Não  \n",
       "2            Não  \n",
       "3            Não  \n",
       "4            Não  \n",
       "..           ...  \n",
       "179          Não  \n",
       "180          Não  \n",
       "181          Não  \n",
       "182          Não  \n",
       "183          Não  \n",
       "\n",
       "[184 rows x 9 columns]"
      ]
     },
     "execution_count": 14,
     "metadata": {},
     "output_type": "execute_result"
    }
   ],
   "source": [
    "dados['AnoEleitoral'] = dados.apply(lambda row: 'Sim' if row.Ano in anos_eleitorais else 'Não', 1)\n",
    "dados"
   ]
  },
  {
   "cell_type": "code",
   "execution_count": 15,
   "metadata": {},
   "outputs": [
    {
     "data": {
      "text/html": [
       "<div>\n",
       "<style scoped>\n",
       "    .dataframe tbody tr th:only-of-type {\n",
       "        vertical-align: middle;\n",
       "    }\n",
       "\n",
       "    .dataframe tbody tr th {\n",
       "        vertical-align: top;\n",
       "    }\n",
       "\n",
       "    .dataframe thead th {\n",
       "        text-align: right;\n",
       "    }\n",
       "</style>\n",
       "<table border=\"1\" class=\"dataframe\">\n",
       "  <thead>\n",
       "    <tr style=\"text-align: right;\">\n",
       "      <th></th>\n",
       "      <th>Construção</th>\n",
       "      <th>Estações</th>\n",
       "    </tr>\n",
       "  </thead>\n",
       "  <tbody>\n",
       "    <tr>\n",
       "      <th>0</th>\n",
       "      <td>CPTM</td>\n",
       "      <td>18</td>\n",
       "    </tr>\n",
       "    <tr>\n",
       "      <th>1</th>\n",
       "      <td>Metrô</td>\n",
       "      <td>42</td>\n",
       "    </tr>\n",
       "  </tbody>\n",
       "</table>\n",
       "</div>"
      ],
      "text/plain": [
       "  Construção  Estações\n",
       "0       CPTM        18\n",
       "1      Metrô        42"
      ]
     },
     "execution_count": 15,
     "metadata": {},
     "output_type": "execute_result"
    }
   ],
   "source": [
    "estacoes_eleitorais = dados[dados.AnoEleitoral == 'Sim'].groupby('Construção').agg({'Construção' : 'count'})\n",
    "estacoes_eleitorais.columns = ['Estações']\n",
    "\n",
    "estacoes_eleitorais = estacoes_eleitorais.reset_index()\n",
    "estacoes_eleitorais"
   ]
  },
  {
   "cell_type": "code",
   "execution_count": 16,
   "metadata": {},
   "outputs": [
    {
     "data": {
      "text/plain": [
       "Text(0, 0.5, 'Estações inauguradas')"
      ]
     },
     "execution_count": 16,
     "metadata": {},
     "output_type": "execute_result"
    },
    {
     "data": {
      "image/png": "[encoded data removed]",
      "text/plain": [
       "<Figure size 432x288 with 1 Axes>"
      ]
     },
     "metadata": {
      "needs_background": "light"
     },
     "output_type": "display_data"
    }
   ],
   "source": [
    "plt.bar(estacoes_eleitorais.Construção, estacoes_eleitorais.Estações, label = 'Inaugurações', color = 'rb')\n",
    "plt.title('Estações inauguradas em ano eleitoral desde 1988')\n",
    "plt.ylabel('Estações inauguradas')"
   ]
  },
  {
   "cell_type": "code",
   "execution_count": 17,
   "metadata": {},
   "outputs": [
    {
     "data": {
      "text/html": [
       "<div>\n",
       "<style scoped>\n",
       "    .dataframe tbody tr th:only-of-type {\n",
       "        vertical-align: middle;\n",
       "    }\n",
       "\n",
       "    .dataframe tbody tr th {\n",
       "        vertical-align: top;\n",
       "    }\n",
       "\n",
       "    .dataframe thead th {\n",
       "        text-align: right;\n",
       "    }\n",
       "</style>\n",
       "<table border=\"1\" class=\"dataframe\">\n",
       "  <thead>\n",
       "    <tr style=\"text-align: right;\">\n",
       "      <th></th>\n",
       "      <th>Construção</th>\n",
       "      <th>AnoEleitoral</th>\n",
       "      <th>Estações</th>\n",
       "    </tr>\n",
       "  </thead>\n",
       "  <tbody>\n",
       "    <tr>\n",
       "      <th>0</th>\n",
       "      <td>CPTM</td>\n",
       "      <td>Não</td>\n",
       "      <td>3</td>\n",
       "    </tr>\n",
       "    <tr>\n",
       "      <th>1</th>\n",
       "      <td>CPTM</td>\n",
       "      <td>Sim</td>\n",
       "      <td>18</td>\n",
       "    </tr>\n",
       "    <tr>\n",
       "      <th>2</th>\n",
       "      <td>Metrô</td>\n",
       "      <td>Não</td>\n",
       "      <td>17</td>\n",
       "    </tr>\n",
       "    <tr>\n",
       "      <th>3</th>\n",
       "      <td>Metrô</td>\n",
       "      <td>Sim</td>\n",
       "      <td>42</td>\n",
       "    </tr>\n",
       "  </tbody>\n",
       "</table>\n",
       "</div>"
      ],
      "text/plain": [
       "  Construção AnoEleitoral  Estações\n",
       "0       CPTM          Não         3\n",
       "1       CPTM          Sim        18\n",
       "2      Metrô          Não        17\n",
       "3      Metrô          Sim        42"
      ]
     },
     "execution_count": 17,
     "metadata": {},
     "output_type": "execute_result"
    }
   ],
   "source": [
    "estacoes_eleitorais = dados[dados.Ano >= 1988].groupby(['Construção', 'AnoEleitoral']).agg({'AnoEleitoral' : 'count'})\n",
    "estacoes_eleitorais.columns = ['Estações']\n",
    "\n",
    "estacoes_eleitorais = estacoes_eleitorais.reset_index()\n",
    "estacoes_eleitorais"
   ]
  },
  {
   "cell_type": "code",
   "execution_count": 18,
   "metadata": {},
   "outputs": [
    {
     "data": {
      "text/plain": [
       "<matplotlib.legend.Legend at 0x256ddf49b88>"
      ]
     },
     "execution_count": 18,
     "metadata": {},
     "output_type": "execute_result"
    },
    {
     "data": {
      "image/png": "[encoded data removed]",
      "text/plain": [
       "<Figure size 432x288 with 1 Axes>"
      ]
     },
     "metadata": {
      "needs_background": "light"
     },
     "output_type": "display_data"
    }
   ],
   "source": [
    "labels = ['Ano Comum', 'Ano Eleitoral']\n",
    "\n",
    "dados_cptm = list(estacoes_eleitorais.loc[estacoes_eleitorais.Construção == 'CPTM', 'Estações'])\n",
    "dados_metro = list(estacoes_eleitorais.loc[estacoes_eleitorais.Construção == 'Metrô', 'Estações'])\n",
    "\n",
    "x = np.arange(len(labels))\n",
    "width = 0.35\n",
    "\n",
    "fig, ax = plt.subplots()\n",
    "\n",
    "bar_cptm = plt.bar(x - (width / 2), dados_cptm, width, label = 'CPTM', color = 'r')\n",
    "bar_metro = plt.bar(x + (width / 2), dados_metro, width, label = 'Metrô', color = 'b')\n",
    "\n",
    "ax.set_title('Inaugurações de estações a partir de 1988')\n",
    "ax.set_xticks(x)\n",
    "ax.set_xticklabels(labels)\n",
    "ax.set_ylabel('Estações inauguradas')\n",
    "ax.legend()"
   ]
  },
  {
   "cell_type": "code",
   "execution_count": 19,
   "metadata": {},
   "outputs": [
    {
     "data": {
      "image/png": "[encoded data removed]",
      "text/plain": [
       "<Figure size 1440x432 with 1 Axes>"
      ]
     },
     "metadata": {
      "needs_background": "light"
     },
     "output_type": "display_data"
    }
   ],
   "source": [
    "anos = dados[(dados.AnoEleitoral == 'Sim') & (dados.Construção == 'Metrô')].Ano.unique()\n",
    "inauguracoes = dados[(dados.AnoEleitoral == 'Sim') & (dados.Construção == 'Metrô')].groupby('Ano')['Nome'].count().tolist()\n",
    "\n",
    "plt.figure(figsize = (20,6))\n",
    "\n",
    "plt.bar(anos, inauguracoes)\n",
    "\n",
    "plt.title('Inaugurações de estações do Metrô em anos eleitorais', fontsize = 20)\n",
    "plt.xlabel('Ano', fontsize = 15)\n",
    "plt.ylabel('Estações inauguradas', fontsize = 15)\n",
    "plt.xticks(np.arange(min(anos), max(anos) + 2, 2.0))\n",
    "plt.yticks(np.arange(0, max(inauguracoes) + 1, 1.0))\n",
    "plt.grid()"
   ]
  },
  {
   "cell_type": "code",
   "execution_count": 20,
   "metadata": {},
   "outputs": [
    {
     "data": {
      "image/png": "[encoded data removed]",
      "text/plain": [
       "<Figure size 1440x432 with 1 Axes>"
      ]
     },
     "metadata": {
      "needs_background": "light"
     },
     "output_type": "display_data"
    }
   ],
   "source": [
    "anos = dados[(dados.AnoEleitoral == 'Sim') & (dados.Construção == 'CPTM')].Ano.unique()\n",
    "inauguracoes = dados[(dados.AnoEleitoral == 'Sim') & (dados.Construção == 'CPTM')].groupby('Ano')['Nome'].count().tolist()\n",
    "\n",
    "plt.figure(figsize = (20, 6))\n",
    "\n",
    "plt.bar(anos, inauguracoes, color = 'r')\n",
    "\n",
    "plt.title('Inaugurações de estações da CPTM em anos eleitorais', fontsize = 20)\n",
    "plt.xlabel('Ano', fontsize = 15)\n",
    "plt.ylabel('Estações inauguradas', fontsize = 15)\n",
    "plt.xticks(np.arange(min(anos), max(anos) + 2, 2.0))\n",
    "plt.yticks(np.arange(0, max(inauguracoes) + 1, 1.0))\n",
    "plt.grid()"
   ]
  },
  {
   "cell_type": "code",
   "execution_count": 21,
   "metadata": {},
   "outputs": [
    {
     "data": {
      "image/png": "[encoded data removed]",
      "text/plain": [
       "<Figure size 1080x360 with 1 Axes>"
      ]
     },
     "metadata": {
      "needs_background": "light"
     },
     "output_type": "display_data"
    }
   ],
   "source": [
    "dados_cptm = []\n",
    "dados_metro = []\n",
    "\n",
    "for a in anos_eleitorais:\n",
    "    dados_cptm.append(len(dados[(dados.Construção == 'CPTM') & (dados.Ano == a)]))\n",
    "    dados_metro.append(len(dados[(dados.Construção == 'Metrô') & (dados.Ano == a)]))\n",
    "\n",
    "x = np.arange(len(anos_eleitorais))\n",
    "width = 0.25\n",
    "\n",
    "fig, ax = plt.subplots(figsize = (15, 5))\n",
    "\n",
    "bar_cptm = plt.bar(x - (width / 2), dados_cptm, width, label = 'CPTM', color = 'r')\n",
    "bar_metro = plt.bar(x + (width / 2), dados_metro, width, label = 'Metrô', color = 'b')\n",
    "\n",
    "ax.set_title('Inaugurações de estações em anos eleitorais')\n",
    "ax.set_xticks(x)\n",
    "ax.set_xticklabels(anos_eleitorais)\n",
    "ax.set_ylabel('Estações inauguradas')\n",
    "ax.set_yticks(np.arange(min(dados_metro), max(dados_metro) + 1, 1.0))\n",
    "ax.legend()\n",
    "ax.grid()"
   ]
  }
 ],
 "metadata": {
  "kernelspec": {
   "display_name": "Python 3",
   "language": "python",
   "name": "python3"
  },
  "language_info": {
   "codemirror_mode": {
    "name": "ipython",
    "version": 3
   },
   "file_extension": ".py",
   "mimetype": "text/x-python",
   "name": "python",
   "nbconvert_exporter": "python",
   "pygments_lexer": "ipython3",
   "version": "3.7.6"
  }
 },
 "nbformat": 4,
 "nbformat_minor": 2
}
